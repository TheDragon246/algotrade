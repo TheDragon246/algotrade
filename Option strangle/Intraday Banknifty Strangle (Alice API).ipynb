{
 "cells": [
  {
   "cell_type": "code",
   "execution_count": null,
   "metadata": {},
   "outputs": [],
   "source": [
    "import logging\n",
    "import datetime\n",
    "import statistics\n",
    "from time import sleep\n",
    "from alice_blue import *"
   ]
  },
  {
   "cell_type": "code",
   "execution_count": null,
   "metadata": {},
   "outputs": [],
   "source": [
    "# Config\n",
    "username = ''\n",
    "password = ''\n",
    "twoFA = ''\n",
    "\n",
    "client_id = ''\n",
    "api_secret = ''\n",
    "redirect_url= ''\n",
    "#EMA_CROSS_SCRIP = 'INFY'\n",
    "logging.basicConfig(level=logging.DEBUG)        # Optional for getting debug messages."
   ]
  },
  {
   "cell_type": "code",
   "execution_count": null,
   "metadata": {},
   "outputs": [],
   "source": [
    "#initiate ltp which will be extracted later from market price quotes\n",
    "ltp = 0\n",
    "socket_opened = False\n",
    "alice = None"
   ]
  },
  {
   "cell_type": "code",
   "execution_count": null,
   "metadata": {},
   "outputs": [],
   "source": [
    "#function used to extract ltp\n",
    "def event_handler_quote_update(message):\n",
    "    global ltp\n",
    "    ltp = message['ltp']"
   ]
  },
  {
   "cell_type": "code",
   "execution_count": null,
   "metadata": {},
   "outputs": [],
   "source": [
    "def open_callback():\n",
    "    global socket_opened\n",
    "    socket_opened = True"
   ]
  },
  {
   "cell_type": "code",
   "execution_count": null,
   "metadata": {},
   "outputs": [],
   "source": [
    "#logging in and setting up Alice API\n",
    "def main():\n",
    "    global socket_opened\n",
    "    global alice\n",
    "    global username\n",
    "    global password\n",
    "    global twoFA\n",
    "    global api_secret\n",
    "    #global EMA_CROSS_SCRIP\n",
    "    minute_close = []\n",
    "    access_token = AliceBlue.login_and_get_access_token(username=username, password=password, twoFA=twoFA,  api_secret=api_secret, redirect_url=redirect_url, app_id=client_id)\n",
    "    alice = AliceBlue(username=username, password=password, access_token=access_token, master_contracts_to_download=['NSE', 'BSE', 'MCX', 'NFO'])\n",
    "    \n",
    "    #print(alice.get_balance()) # get balance / margin limits\n",
    "    #print(alice.get_profile()) # get profile\n",
    "    #print(alice.get_daywise_positions()) # get daywise positions\n",
    "    #print(alice.get_netwise_positions()) # get netwise positions\n",
    "    #print(alice.get_holding_positions()) # get holding positions\n",
    "    \n",
    "    #ins_scrip = alice.get_instrument_for_fno(symbol = 'BANKNIFTY', expiry_date=datetime.date(2020, 5, 28), is_fut=True, strike=None, is_CE = False)\n",
    "    \n",
    "    socket_opened = False\n",
    "    alice.start_websocket(subscribe_callback=event_handler_quote_update,\n",
    "                          socket_open_callback=open_callback,\n",
    "                          run_in_background=True)\n",
    "    while(socket_opened==False):    # wait till socket open & then subscribe\n",
    "        pass\n",
    "    #alice.subscribe(ins_scrip, LiveFeedType.COMPACT)\n",
    "    #print (ltp)\n",
    "    \n",
    "    \n",
    "    \n",
    "\n",
    "if(__name__ == '__main__'):\n",
    "    main()"
   ]
  },
  {
   "cell_type": "code",
   "execution_count": null,
   "metadata": {},
   "outputs": [],
   "source": [
    "#ltp = 0 as it has not been assigned to a value yet\n",
    "print (ltp)"
   ]
  },
  {
   "cell_type": "code",
   "execution_count": null,
   "metadata": {},
   "outputs": [],
   "source": [
    "#get Banknifty index price\n",
    "bn_index = alice.get_instrument_by_token('NSE', 26009)\n",
    "alice.subscribe(bn_index, LiveFeedType.COMPACT)\n",
    "while ltp == 0:\n",
    "    logging.debug('waiting to get future ltp')\n",
    "    sleep(1)\n",
    "print (ltp)"
   ]
  },
  {
   "cell_type": "code",
   "execution_count": null,
   "metadata": {},
   "outputs": [],
   "source": [
    "# assign Banknifty index price to a variable\n",
    "ltp_index = ltp\n",
    "print (ltp_index)"
   ]
  },
  {
   "cell_type": "code",
   "execution_count": null,
   "metadata": {},
   "outputs": [],
   "source": [
    "#find option strike prices to enter\n",
    "put_price = ((ltp_index//100)*100)\n",
    "call_price = (((ltp_index//100)+1)*100)\n",
    "print (put_price , call_price)"
   ]
  },
  {
   "cell_type": "code",
   "execution_count": null,
   "metadata": {},
   "outputs": [],
   "source": [
    "# assign the mentioned option instruments to variables\n",
    "ATMcall = alice.get_instrument_for_fno(symbol = 'BANKNIFTY', expiry_date=datetime.date(2020, 5, 28), is_fut=False, strike=call_price, is_CE = True)\n",
    "ATMput = alice.get_instrument_for_fno(symbol = 'BANKNIFTY', expiry_date=datetime.date(2020, 5, 28), is_fut=False, strike=put_price, is_CE = False)"
   ]
  },
  {
   "cell_type": "code",
   "execution_count": null,
   "metadata": {},
   "outputs": [],
   "source": [
    "# get ltp of CE \n",
    "alice.subscribe(ATMcall, LiveFeedType.COMPACT)\n",
    "while ltp == ltp_index:\n",
    "    logging.debug('waiting to get latest ltp')\n",
    "    sleep(1)\n",
    "print (ltp)"
   ]
  },
  {
   "cell_type": "code",
   "execution_count": null,
   "metadata": {},
   "outputs": [],
   "source": [
    "# assign CE ltp to a variable\n",
    "ltp_CE = ltp\n",
    "print (ltp_CE)"
   ]
  },
  {
   "cell_type": "code",
   "execution_count": null,
   "metadata": {},
   "outputs": [],
   "source": [
    "# get ltp of PE \n",
    "alice.subscribe(ATMput, LiveFeedType.COMPACT)\n",
    "while ltp == ltp_CE:\n",
    "    logging.debug('waiting to get latest ltp')\n",
    "    sleep(1)\n",
    "print (ltp)"
   ]
  },
  {
   "cell_type": "code",
   "execution_count": null,
   "metadata": {},
   "outputs": [],
   "source": [
    "# assign PE ltp to a variable\n",
    "ltp_PE = ltp\n",
    "print (ltp_PE)"
   ]
  },
  {
   "cell_type": "code",
   "execution_count": null,
   "metadata": {},
   "outputs": [],
   "source": [
    "#prices extracted via ltp\n",
    "print (ltp_index,ltp_CE,ltp_PE)"
   ]
  },
  {
   "cell_type": "code",
   "execution_count": null,
   "metadata": {},
   "outputs": [],
   "source": [
    "#Option orders\n",
    "CE_order = {'transaction_type' : TransactionType.Sell,\n",
    "                     'instrument' : ATMcall,\n",
    "                     'quantity' : 20,\n",
    "                     'order_type' : OrderType.StopLossMarket,\n",
    "                     'product_type' : ProductType.Intraday,\n",
    "                     'price' : 0.0,\n",
    "                     'trigger_price' : 1.2*ltp_CE, # can be 1.2*entry_price_call for 20% sl\n",
    "                     'stop_loss' : None,\n",
    "                     'square_off' : None,\n",
    "                     'trailing_sl' : None,\n",
    "                     'is_amo' : False}\n",
    "\n",
    "PE_order = {'transaction_type' : TransactionType.Sell,\n",
    "                     'instrument' : ATMput,\n",
    "                     'quantity' : 20,\n",
    "                     'order_type' : OrderType.StopLossMarket,\n",
    "                     'product_type' : ProductType.Intraday,\n",
    "                     'price' : 0.0,\n",
    "                     'trigger_price' : 1.2*ltp_PE, # can be 1.2*entry_price_put for 20% sl\n",
    "                     'stop_loss' : None,\n",
    "                     'square_off' : None,\n",
    "                     'trailing_sl' : None,\n",
    "                     'is_amo' : False}"
   ]
  },
  {
   "cell_type": "code",
   "execution_count": null,
   "metadata": {},
   "outputs": [],
   "source": [
    "#placing basket order\n",
    "order = [CE_order, PE_order]\n",
    "print(alice.place_basket_order(order))"
   ]
  },
  {
   "cell_type": "code",
   "execution_count": null,
   "metadata": {},
   "outputs": [],
   "source": [
    "print(alice.get_daywise_positions()) # get daywise positions\n",
    "print(alice.get_netwise_positions()) # get netwise positions\n",
    "print(alice.get_holding_positions()) # get holding positions"
   ]
  }
 ],
 "metadata": {
  "kernelspec": {
   "display_name": "Python 3",
   "language": "python",
   "name": "python3"
  },
  "language_info": {
   "codemirror_mode": {
    "name": "ipython",
    "version": 3
   },
   "file_extension": ".py",
   "mimetype": "text/x-python",
   "name": "python",
   "nbconvert_exporter": "python",
   "pygments_lexer": "ipython3",
   "version": "3.7.6"
  }
 },
 "nbformat": 4,
 "nbformat_minor": 4
}
